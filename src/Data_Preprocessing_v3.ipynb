{
 "cells": [
  {
   "cell_type": "markdown",
   "metadata": {
    "toc": true
   },
   "source": [
    "<h1>Table of Contents<span class=\"tocSkip\"></span></h1>\n",
    "<div class=\"toc\"><ul class=\"toc-item\"></ul></div>"
   ]
  },
  {
   "cell_type": "code",
   "execution_count": 15,
   "metadata": {
    "colab": {
     "base_uri": "https://localhost:8080/"
    },
    "id": "k6VGNfIk28Di",
    "outputId": "256c6dba-5db3-41e5-eb4e-5253b854483c"
   },
   "outputs": [
    {
     "name": "stdout",
     "output_type": "stream",
     "text": [
      "Requirement already satisfied: py7zr in c:\\programdata\\anaconda3\\lib\\site-packages (0.17.2)\n",
      "Requirement already satisfied: pyppmd>=0.17.0 in c:\\programdata\\anaconda3\\lib\\site-packages (from py7zr) (0.17.3)\n",
      "Requirement already satisfied: brotli>=1.0.9; platform_python_implementation == \"CPython\" in c:\\programdata\\anaconda3\\lib\\site-packages (from py7zr) (1.0.9)\n",
      "Requirement already satisfied: pybcj>=0.5.0; platform_python_implementation == \"CPython\" in c:\\programdata\\anaconda3\\lib\\site-packages (from py7zr) (0.5.0)\n",
      "Requirement already satisfied: pycryptodomex>=3.6.6 in c:\\programdata\\anaconda3\\lib\\site-packages (from py7zr) (3.12.0)\n",
      "Requirement already satisfied: multivolumefile>=0.2.3 in c:\\programdata\\anaconda3\\lib\\site-packages (from py7zr) (0.2.3)\n",
      "Requirement already satisfied: texttable in c:\\programdata\\anaconda3\\lib\\site-packages (from py7zr) (1.6.4)\n",
      "Requirement already satisfied: pyzstd>=0.14.4 in c:\\programdata\\anaconda3\\lib\\site-packages (from py7zr) (0.15.1)\n"
     ]
    }
   ],
   "source": [
    "!pip install py7zr"
   ]
  },
  {
   "cell_type": "code",
   "execution_count": 381,
   "metadata": {
    "id": "OhMJ5Sdmy-W0"
   },
   "outputs": [],
   "source": [
    "import pandas as pd\n",
    "import numpy as np\n",
    "import py7zr\n",
    "import os\n",
    "import json\n",
    "from urllib.request import urlopen\n",
    "\n",
    "from typing import (\n",
    "    Deque, Dict, FrozenSet, List, Optional, Sequence, Set, Tuple, Union\n",
    "    )\n",
    "from pydantic import BaseModel\n",
    "pd.set_option('display.max_columns', None)\n",
    "pd.set_option('display.max_rows', None)"
   ]
  },
  {
   "cell_type": "code",
   "execution_count": 205,
   "metadata": {
    "colab": {
     "base_uri": "https://localhost:8080/"
    },
    "id": "0ZnEvyswzEJ4",
    "outputId": "01ded113-b4c1-4430-d29b-aa565e7ba3a0"
   },
   "outputs": [],
   "source": [
    "from google.colab import drive\n",
    "drive.mount(\"/content/gdrive\")"
   ]
  },
  {
   "cell_type": "code",
   "execution_count": 383,
   "metadata": {
    "id": "T2bGYY42zL0Y"
   },
   "outputs": [],
   "source": [
    "# Data reading\n",
    "PATH = \"/content/gdrive/MyDrive/GlobalTerrorismViz/\"\n",
    "PATH = \"../\""
   ]
  },
  {
   "cell_type": "code",
   "execution_count": 521,
   "metadata": {
    "id": "tK8Yqj_8zR25"
   },
   "outputs": [],
   "source": [
    "# Data reading\n",
    "with py7zr.SevenZipFile(PATH + 'data/raw/globalterrorismdb_0221dist.7z') as z:\n",
    "    # open the csv file in the dataset\n",
    "    targetPath = PATH + 'data/'\n",
    "    z.extract(path = targetPath)\n",
    "    df = pd.read_excel(targetPath + 'globalterrorismdb_0221dist.xlsx')\n",
    "    \n",
    "# We filtered out doubted attacks to be able to have exact attacks\n",
    "df = df[(df['doubtterr'] != 1) & (df['iyear'] >=2011)]\n",
    "\n",
    "_df = df[['eventid','iyear','imonth','iday','country','country_txt',\n",
    "         'region','region_txt', 'provstate', 'city','latitude','longitude',\n",
    "         'nkill', 'nwound','gname','targtype1_txt', 'attacktype1_txt']]"
   ]
  },
  {
   "cell_type": "code",
   "execution_count": 522,
   "metadata": {
    "id": "4vnTqnxD0ldn"
   },
   "outputs": [],
   "source": [
    "# Geojson for polygons of map\n",
    "with urlopen('https://raw.githubusercontent.com/johan/world.geo.json/master/countries.geo.json') as response:\n",
    "    countries = json.load(response)\n",
    "                          \n",
    "countries_df = pd.json_normalize(countries,  record_path =['features'])"
   ]
  },
  {
   "cell_type": "code",
   "execution_count": 523,
   "metadata": {
    "id": "wYUAy-Gb2Mvp"
   },
   "outputs": [],
   "source": [
    "# Merging locations and main df\n",
    "df_merged = pd.merge(_df, countries_df , left_on = 'country_txt', right_on = 'properties.name', how = 'left' )\n",
    "\n"
   ]
  },
  {
   "cell_type": "code",
   "execution_count": 577,
   "metadata": {},
   "outputs": [],
   "source": [
    "# Getting Stats\n",
    "group_year_dataset = df_merged.groupby(by=['gname','iyear','country_txt','id']).agg({'eventid':'nunique',\n",
    "                                                                'nkill':'sum',\n",
    "                                                                'nwound':'sum'}).reset_index()\n",
    "\n",
    "attacks_by_target = df_merged.groupby(by=['targtype1_txt','iyear','country_txt','id']).agg({'eventid':'nunique',\n",
    "                                                                'nkill':'sum',\n",
    "                                                                'nwound':'sum'}).reset_index()\n",
    "\n",
    "death_injury_yearly = df_merged.groupby(by=['iyear','country_txt','id']).agg({'eventid':'nunique',\n",
    "                                                                'nkill':'sum',\n",
    "                                                                'nwound':'sum'}).reset_index()\n",
    "\n",
    "df_merged['affiliation'] = df_merged['gname'].apply(lambda x: 'Affiliated' if x !='Unknown' else 'Not Affiliated')\n",
    "affiliated_yearly = df_merged.groupby(by=['iyear','country_txt','id','affiliation']).agg({'eventid':'nunique',\n",
    "                                                                              'nkill':'sum',\n",
    "                                                                               'nwound':'sum'}).reset_index()"
   ]
  },
  {
   "cell_type": "code",
   "execution_count": null,
   "metadata": {},
   "outputs": [],
   "source": [
    "# Writing to excel\n",
    "group_year_dataset.to_excel(PATH + 'data/xlsx/group_year_dataset.xlsx', engine='openpyxl', encoding='utf-8')\n",
    "attacks_by_target.to_excel(PATH + 'data/xlsx/attacks_by_target.xlsx', engine='openpyxl', encoding='utf-8')\n",
    "death_injury_yearly.to_excel(PATH + 'data/xlsx/death_injury_yearly.xlsx', engine='openpyxl', encoding='utf-8')\n",
    "affiliated_yearly.to_excel(PATH + 'data/xlsx/affiliated_yearly.xlsx', engine='openpyxl', encoding='utf-8')\n",
    "\n",
    "# Writing to JSON\n",
    "group_year_dataset.to_json(PATH + 'data/json/group_year_dataset.json')\n",
    "attacks_by_target.to_json(PATH + 'data/json/attacks_by_target.json')\n",
    "death_injury_yearly.to_json(PATH + 'data/json/death_injury_yearly.json')\n",
    "affiliated_yearly.to_json(PATH + 'data/json/affiliated_yearly.json')"
   ]
  },
  {
   "cell_type": "markdown",
   "metadata": {},
   "source": [
    "Most influential terrorist organizations"
   ]
  },
  {
   "cell_type": "code",
   "execution_count": 370,
   "metadata": {},
   "outputs": [],
   "source": [
    "topN = 5\n",
    "groupsData = (df_merged[~df_merged['gname'].isin(['Unknown'])].groupby(by=['gname','iyear']).agg({'eventid':'nunique'})\n",
    "            .reset_index()\n",
    "            .rename(columns={'iyear':'x', 'eventid': 'y'}))\n",
    "\n",
    "groupsData_years = sorted(groupsData['x'].unique())\n",
    "groupsData_groups = sorted(groupsData.groupby(by=['gname']).agg({'y':np.sum}).reset_index().sort_values(by = ['y'] ,ascending=False).head(topN)['gname'])\n",
    "groupsData = groupsData[groupsData['gname'].isin(groupsData_groups)]"
   ]
  },
  {
   "cell_type": "code",
   "execution_count": 347,
   "metadata": {},
   "outputs": [],
   "source": [
    "groupsData_groups\n",
    "\n",
    "group_names = {\n",
    "'Al-Shabaab':'Al-Shabaab',\n",
    "'Boko Haram':'Boko Haram',\n",
    "'Houthi extremists (Ansar Allah)':'Houthi',\n",
    "'Islamic State of Iraq and the Levant (ISIL)': 'ISIL',\n",
    "'Maoists':'Maoists',\n",
    "'Taliban':'Taliban'\n",
    "}"
   ]
  },
  {
   "cell_type": "code",
   "execution_count": 348,
   "metadata": {},
   "outputs": [],
   "source": [
    "class Coordinates(BaseModel):\n",
    "    x: Union[int, str]\n",
    "    y: int\n",
    "    \n",
    "class GroupDataItem(BaseModel):\n",
    "    id: str = None\n",
    "    data: List[Coordinates] = None\n",
    "\n",
    "#class GroupDataList(BaseModel):\n",
    "#    __root__: List[GroupDataItem]    "
   ]
  },
  {
   "cell_type": "code",
   "execution_count": 349,
   "metadata": {},
   "outputs": [],
   "source": [
    "groupsData_List = []\n",
    "for group_name in groupsData_groups:\n",
    "    coord_list = []\n",
    "    for year_id in groupsData_years:\n",
    "        if len(groupsData[(groupsData['gname']==group_name)&(groupsData['x']==year_id)])>0:\n",
    "            y =  groupsData.loc[(groupsData['gname']==group_name)&(groupsData['x']==year_id),'y'].iloc[0]\n",
    "        else:\n",
    "            y=0\n",
    "        c = Coordinates(x=year_id, y=y )\n",
    "        coord_list.append(c.dict())\n",
    "\n",
    "    group_item = GroupDataItem(id=group_names[group_name], data=coord_list)\n",
    "    groupsData_List.append(group_item.dict())"
   ]
  },
  {
   "cell_type": "code",
   "execution_count": 350,
   "metadata": {},
   "outputs": [],
   "source": [
    "with open(PATH + 'data/json/groupsData.json', 'w') as f:\n",
    "    json.dump(groupsData_List, f)"
   ]
  },
  {
   "cell_type": "markdown",
   "metadata": {},
   "source": [
    "Most attacked countries over the time"
   ]
  },
  {
   "cell_type": "code",
   "execution_count": 391,
   "metadata": {},
   "outputs": [],
   "source": [
    "class YearlyAttacksCountry(BaseModel):\n",
    "    id: str\n",
    "    affiliated: int\n",
    "    unknown: int\n",
    "    \n",
    "class YearlyAttacks(BaseModel):\n",
    "    year: Union[int, str]\n",
    "    data: List[YearlyAttacksCountry] = None"
   ]
  },
  {
   "cell_type": "code",
   "execution_count": null,
   "metadata": {},
   "outputs": [],
   "source": [
    "mostAttackedData = (df_merged.groupby(by=['iyear','id','affiliation'])\n",
    "                            .agg({'eventid':'nunique'})\n",
    "                            .reset_index())\n",
    "mostAttacked_years = sorted(mostAttackedData['iyear'].unique())"
   ]
  },
  {
   "cell_type": "code",
   "execution_count": 437,
   "metadata": {},
   "outputs": [],
   "source": [
    "topN = 7\n",
    "mostAttackedData_List = []\n",
    "affiliation = ['Affiliated', 'Not Affiliated']\n",
    "for year in mostAttacked_years:\n",
    "    mostAttackedData_Countries = []\n",
    "    mostAttacked_yearly_total = (mostAttackedData[mostAttackedData['iyear'].isin([year])]\n",
    "                                                .groupby(by=['iyear','id'])\n",
    "                                                .agg({'eventid':np.sum}).reset_index()\n",
    "                                                .sort_values(by = ['eventid'] ,ascending=False).head(topN))\n",
    "    mostAttacked_yearly_total = mostAttacked_yearly_total.sort_values(by = ['eventid'] ,ascending=True)\n",
    "    \n",
    "    mostAttacked_countries = mostAttacked_yearly_total['id'].unique().tolist()\n",
    "    mostAttacked_yearly_total= (mostAttackedData[(mostAttackedData['iyear'].isin([year])) & (mostAttackedData['id'].isin(mostAttacked_countries))])\n",
    "    \n",
    "    for country in mostAttacked_countries:\n",
    "    \n",
    "        if len(mostAttacked_yearly_total[(mostAttacked_yearly_total['id']==country)&(mostAttacked_yearly_total['iyear']==year) & (mostAttacked_yearly_total['affiliation']==affiliation[0])])>0:\n",
    "            affiliated_val =  mostAttacked_yearly_total.loc[(mostAttacked_yearly_total['id']==country)&(mostAttacked_yearly_total['iyear']==year)& (mostAttacked_yearly_total['affiliation']==affiliation[0]),'eventid'].iloc[0]\n",
    "        else:\n",
    "            affiliated_val =  0\n",
    "        if len(mostAttacked_yearly_total[(mostAttacked_yearly_total['id']==country)&(mostAttacked_yearly_total['iyear']==year) & (mostAttacked_yearly_total['affiliation']==affiliation[1])])>0:\n",
    "            nonaffiliated_val =  mostAttacked_yearly_total.loc[(mostAttacked_yearly_total['id']==country)&(mostAttacked_yearly_total['iyear']==year)& (mostAttacked_yearly_total['affiliation']==affiliation[1]),'eventid'].iloc[0]\n",
    "        else:\n",
    "            nonaffiliated_val =  0\n",
    "                \n",
    "                \n",
    "        country_data = YearlyAttacksCountry(id=country, affiliated=affiliated_val, unknown = nonaffiliated_val )\n",
    "        mostAttackedData_Countries.append(country_data.dict())\n",
    "    yearly_data = YearlyAttacks(year=year, data=mostAttackedData_Countries)\n",
    "    mostAttackedData_List.append(yearly_data.dict())"
   ]
  },
  {
   "cell_type": "code",
   "execution_count": 438,
   "metadata": {
    "id": "kiIQFBEb8k_e"
   },
   "outputs": [],
   "source": [
    "with open(PATH + 'data/json/mostAttackedData.json', 'w') as f:\n",
    "    json.dump(mostAttackedData_List, f)"
   ]
  },
  {
   "cell_type": "markdown",
   "metadata": {},
   "source": [
    "victimsData"
   ]
  },
  {
   "cell_type": "code",
   "execution_count": 576,
   "metadata": {},
   "outputs": [],
   "source": [
    "class Coordinates(BaseModel):\n",
    "    x: Union[int, str]\n",
    "    y: int\n",
    "    \n",
    "class WoundDataItem(BaseModel):\n",
    "    id: str = None\n",
    "    data: List[Coordinates] = None\n",
    "        \n",
    "class CountryDataItem(BaseModel):\n",
    "    id: str = None\n",
    "    data: List[WoundDataItem] = None        \n",
    "    "
   ]
  },
  {
   "cell_type": "code",
   "execution_count": 580,
   "metadata": {},
   "outputs": [],
   "source": [
    "death_injury_yearly = death_injury_yearly.rename(columns={'nwound':'injuries', 'nkill': 'fatalities'})\n",
    "\n",
    "countries = death_injury_yearly['id'].unique().tolist()\n",
    "years = death_injury_yearly['iyear'].unique().tolist()\n",
    "woundtypes = ['injuries', 'fatalities']\n",
    "\n",
    "\n",
    "victimsData_List = []\n",
    "\n",
    "#total numbers\n",
    "WoundData_List = []\n",
    "for woundtype in woundtypes:\n",
    "    coord_List = []\n",
    "    for year_id in years:\n",
    "        y =  int(death_injury_yearly.loc[death_injury_yearly['iyear']==year_id,woundtype].sum())\n",
    "        c = Coordinates(x=year_id, y=y )\n",
    "        coord_List.append(c.dict())\n",
    "    WoundData = WoundDataItem(id = woundtype, data = coord_List)\n",
    "    \n",
    "    WoundData_List.append(WoundData.dict())\n",
    "    \n",
    "CountryData = CountryDataItem(id = '', data =WoundData_List)\n",
    "victimsData_List.append(CountryData.dict())    \n",
    "\n",
    "#numbers by countries    \n",
    "for country in countries:\n",
    "    WoundData_List = []\n",
    "    \n",
    "    for woundtype in woundtypes:\n",
    "        coord_List = []\n",
    "        for year_id in years:\n",
    "            if len(death_injury_yearly[(death_injury_yearly['id']==country)&(death_injury_yearly['iyear']==year_id)])>0:\n",
    "                y =  death_injury_yearly.loc[(death_injury_yearly['id']==country)&(death_injury_yearly['iyear']==year_id),woundtype].iloc[0]\n",
    "            else:\n",
    "                y=0\n",
    "            c = Coordinates(x=year_id, y=y )\n",
    "            coord_List.append(c.dict())\n",
    "        WoundData = WoundDataItem(id = woundtype, data = coord_List)\n",
    "        WoundData_List.append(WoundData.dict())\n",
    "        \n",
    "    CountryData = CountryDataItem(id = country, data =WoundData_List)\n",
    "    victimsData_List.append(CountryData.dict())\n",
    "#victimsData_List = str(victimsData_List).replace(\"'\", '\"')"
   ]
  },
  {
   "cell_type": "code",
   "execution_count": 579,
   "metadata": {},
   "outputs": [],
   "source": [
    "with open(PATH + 'data/json/victimsData.json', 'w') as f:\n",
    "    json.dump(victimsData_List, f)  \n",
    "#with open(PATH + 'data/json/victimsData.json', 'r') as f:\n",
    "#    victimsData_List = json.load(f)  \n",
    "#with open(PATH + 'data/json/victimsData.json', 'w') as f:\n",
    "#    json.dump(victimsData_List, f, indent=2)"
   ]
  },
  {
   "cell_type": "markdown",
   "metadata": {
    "id": "nfZJVao52vnP"
   },
   "source": [
    "geoData"
   ]
  },
  {
   "cell_type": "code",
   "execution_count": 507,
   "metadata": {},
   "outputs": [],
   "source": [
    "class CountryGeoData(BaseModel):\n",
    "    id: str\n",
    "    value: int\n",
    "    wounded: int\n",
    "    killed: int\n",
    "    \n",
    "class geoDataItem(BaseModel):\n",
    "    year: Union[int, str]\n",
    "    data: List[CountryGeoData] = None"
   ]
  },
  {
   "cell_type": "code",
   "execution_count": 513,
   "metadata": {},
   "outputs": [],
   "source": [
    "death_injury_yearly = death_injury_yearly.rename(columns={'eventid':'value', 'injuries':'wounded', 'fatalities': 'killed'})\n",
    "\n",
    "countries = death_injury_yearly['id'].unique().tolist()\n",
    "years = death_injury_yearly['iyear'].unique().tolist()\n",
    "datatypes = ['value', 'wounded', 'killed']\n",
    "\n",
    "geoData_List = []\n",
    "for year_id in years:\n",
    "    countryData_List = []\n",
    "    for country in countries:\n",
    "        countryValues = [] \n",
    "        for dt in datatypes:\n",
    "            if len(death_injury_yearly[(death_injury_yearly['id']==country)&(death_injury_yearly['iyear']==year_id)])>0:\n",
    "                y =  death_injury_yearly.loc[(death_injury_yearly['id']==country)&(death_injury_yearly['iyear']==year_id),dt].iloc[0]\n",
    "            else:\n",
    "                y=0\n",
    "            countryValues.append(y)\n",
    "        countryData = CountryGeoData(id = country, value = countryValues[0], wounded = countryValues[1], killed = countryValues[2])\n",
    "        countryData_List.append(countryData.dict())\n",
    "    geoData = geoDataItem(year = year_id, data = countryData_List)\n",
    "    geoData_List.append(geoData.dict())\n"
   ]
  },
  {
   "cell_type": "code",
   "execution_count": 514,
   "metadata": {},
   "outputs": [],
   "source": [
    "with open(PATH + 'data/json/geoData.json', 'w') as f:\n",
    "    json.dump(geoData_List, f)"
   ]
  },
  {
   "cell_type": "markdown",
   "metadata": {},
   "source": [
    "attackTypes"
   ]
  },
  {
   "cell_type": "code",
   "execution_count": 718,
   "metadata": {},
   "outputs": [],
   "source": [
    "class AttackTypeData(BaseModel):\n",
    "    id: str\n",
    "    value: int\n",
    "\n",
    "class CountryAttackTypeItem(BaseModel):\n",
    "    id: str\n",
    "    data: List[AttackTypeData] = None"
   ]
  },
  {
   "cell_type": "code",
   "execution_count": 719,
   "metadata": {},
   "outputs": [],
   "source": [
    "attack_by_type = (df_merged.groupby(by=['attacktype1_txt','country_txt','id']).agg({'eventid':'nunique',\n",
    "                                                                'nkill':'sum',\n",
    "                                                                'nwound':'sum'}).reset_index())\n",
    "attack_by_type = attack_by_type.drop(columns = ['nkill', 'nwound'])\n",
    "\n",
    "countries = attack_by_type['id'].unique().tolist()\n",
    "attack_by_type_names = attack_by_type['attacktype1_txt'].unique().tolist()"
   ]
  },
  {
   "cell_type": "code",
   "execution_count": 720,
   "metadata": {},
   "outputs": [],
   "source": [
    "attack_by_type_names_dict = {'Armed Assault':'Armed Assault',\n",
    " 'Assassination':'Assassination',\n",
    " 'Bombing/Explosion':'Explosion',\n",
    " 'Facility/Infrastructure Attack':'Facility Attack',\n",
    " 'Hijacking':'Hijacking',\n",
    " 'Hostage Taking (Barricade Incident)':'Hostage Taking',\n",
    " 'Hostage Taking (Kidnapping)':'Hostage Taking',\n",
    " 'Unarmed Assault':'Unarmed Assault',\n",
    " 'Unknown':'Others'}\n",
    "attack_by_type['attacktype1_txt'] = attack_by_type['attacktype1_txt'].apply(lambda x: attack_by_type_names_dict[x])\n",
    "attack_by_type = (attack_by_type.groupby(by=['attacktype1_txt','country_txt','id']).agg({'eventid':'sum'}).reset_index())\n",
    "\n",
    "#attackTypes_topN = sorted(attack_by_type.sort_values(by = ['eventid'] ,ascending=False).head(topN)['attacktype1_txt'])\n",
    "topN = 3\n",
    "for country in countries:\n",
    "    total_incidents = attack_by_type[attack_by_type['id']==country].eventid.sum()\n",
    "    attackTypes_topN = sorted(attack_by_type[attack_by_type['id']==country].sort_values(by = ['eventid'] ,ascending=False).head(topN)['attacktype1_txt'])\n",
    "    attack_by_type.loc[(~attack_by_type['attacktype1_txt'].isin(attackTypes_topN)) & (attack_by_type['id']==country),'attacktype1_txt'] = 'Others'\n",
    "\n",
    "    attack_by_type = (attack_by_type.groupby(by=['attacktype1_txt','country_txt','id']).agg({'eventid':'sum'}).reset_index())   \n"
   ]
  },
  {
   "cell_type": "code",
   "execution_count": 721,
   "metadata": {},
   "outputs": [],
   "source": [
    "attackTypes_List = []\n",
    "\n",
    "#total numbers\n",
    "attack_by_type_total = (attack_by_type.groupby(by=['attacktype1_txt']).agg({'eventid':'sum'}).reset_index())\n",
    "total_attacks = attack_by_type_total.eventid.sum()\n",
    "attackTypes_topN = sorted(attack_by_type_total.sort_values(by = ['eventid'] ,ascending=False).head(topN)['attacktype1_txt'])\n",
    "attack_by_type_total.loc[(~attack_by_type_total['attacktype1_txt'].isin(attackTypes_topN)),'attacktype1_txt'] = 'Others'\n",
    "attack_by_type_total = (attack_by_type_total.groupby(by=['attacktype1_txt']).agg({'eventid':'sum'}).reset_index())\n",
    "attack_by_type_names = attack_by_type_total['attacktype1_txt'].unique().tolist()\n",
    "\n",
    "attacks_by_country = []\n",
    "for attack_id in attack_by_type_names:\n",
    "    attack_count = attack_by_type_total[attack_by_type_total['attacktype1_txt']==attack_id].eventid.sum()\n",
    "    attack_count = int(round(100*attack_count/total_attacks))\n",
    "    attack_data = AttackTypeData(id=attack_id, value =attack_count)\n",
    "    attacks_by_country.append(attack_data.dict())\n",
    "attackTypes_List.append(CountryAttackTypeItem(id = '', data = attacks_by_country).dict())\n",
    "\n",
    "#numbers by countries\n",
    "for country in countries:\n",
    "    attacks_by_country = []\n",
    "    total_attacks_by_country = attack_by_type[attack_by_type['id']==country].eventid.sum()\n",
    "    attack_by_type_names = attack_by_type[attack_by_type['id']==country]['attacktype1_txt'].unique().tolist()\n",
    "    for attack_id in attack_by_type_names:\n",
    "        if len(attack_by_type[(attack_by_type['id']==country)&(attack_by_type['attacktype1_txt']==attack_id)])>0:\n",
    "            attack_count =  attack_by_type.loc[(attack_by_type['id']==country)&(attack_by_type['attacktype1_txt']==attack_id),'eventid'].iloc[0]\n",
    "        else:\n",
    "            continue\n",
    "            #attack_count=0\n",
    "        attack_count = int(round(100*attack_count/total_attacks_by_country))\n",
    "        attack_data = AttackTypeData(id=attack_id, value =attack_count)\n",
    "        attacks_by_country.append(attack_data.dict())\n",
    "    attackTypes_List.append(CountryAttackTypeItem(id = country, data = attacks_by_country).dict())\n"
   ]
  },
  {
   "cell_type": "code",
   "execution_count": 722,
   "metadata": {},
   "outputs": [],
   "source": [
    "with open(PATH + 'data/json/attackTypes.json', 'w') as f:\n",
    "    json.dump(attackTypes_List, f)"
   ]
  },
  {
   "cell_type": "markdown",
   "metadata": {},
   "source": [
    "attackData"
   ]
  },
  {
   "cell_type": "code",
   "execution_count": 583,
   "metadata": {},
   "outputs": [],
   "source": [
    "class Coordinates(BaseModel):\n",
    "    x: Union[int, str]\n",
    "    y: int\n",
    "    \n",
    "class AttackDataItem(BaseModel):\n",
    "    id: str = None\n",
    "    data: List[Coordinates] = None\n",
    "        \n",
    "class CountryAttackDataItem(BaseModel):\n",
    "    id: str = None\n",
    "    data: List[AttackDataItem] = None  "
   ]
  },
  {
   "cell_type": "code",
   "execution_count": 587,
   "metadata": {},
   "outputs": [],
   "source": [
    "countries = affiliated_yearly['id'].unique().tolist()\n",
    "years = affiliated_yearly['iyear'].unique().tolist()\n",
    "attacktypes = ['affiliated', 'unknown']\n",
    "attacktypes_names = {'affiliated':'Affiliated',\n",
    "                        'unknown':'Not Affiliated'}\n",
    "\n",
    "\n",
    "#total numbers\n",
    "CountryAttackData_List = []\n",
    "AttackData_List = []\n",
    "for attacktype in attacktypes:\n",
    "    coord_List = []\n",
    "    for year_id in years:\n",
    "        y =  int(affiliated_yearly[(affiliated_yearly['iyear']==year_id) & (affiliated_yearly['affiliation']==attacktypes_names[attacktype])].eventid.sum())\n",
    "        c = Coordinates(x=year_id, y=y )\n",
    "        coord_List.append(c.dict())\n",
    "    AttackData = AttackDataItem(id = attacktype, data = coord_List)\n",
    "    \n",
    "    AttackData_List.append(AttackData.dict())\n",
    "    \n",
    "CountryAttackData = CountryAttackDataItem(id = '', data =AttackData_List)\n",
    "CountryAttackData_List.append(CountryAttackData.dict())    \n",
    "\n",
    "#numbers by countries    \n",
    "for country in countries:\n",
    "    AttackData_List = []\n",
    "    \n",
    "    for attacktype in attacktypes:\n",
    "        coord_List = []\n",
    "        for year_id in years:\n",
    "            if len(affiliated_yearly[(affiliated_yearly['id']==country)&(affiliated_yearly['iyear']==year_id)& (affiliated_yearly['affiliation']==attacktypes_names[attacktype])])>0:\n",
    "                y =  affiliated_yearly.loc[(affiliated_yearly['id']==country)&(affiliated_yearly['iyear']==year_id)& (affiliated_yearly['affiliation']==attacktypes_names[attacktype]),'eventid'].iloc[0]\n",
    "            else:\n",
    "                y=0\n",
    "            c = Coordinates(x=year_id, y=y )\n",
    "            coord_List.append(c.dict())\n",
    "        AttackData = AttackDataItem(id = attacktype, data = coord_List)\n",
    "        AttackData_List.append(AttackData.dict())\n",
    "        \n",
    "    CountryAttackData = CountryAttackDataItem(id = country, data =AttackData_List)\n",
    "    CountryAttackData_List.append(CountryAttackData.dict())"
   ]
  },
  {
   "cell_type": "code",
   "execution_count": 588,
   "metadata": {},
   "outputs": [],
   "source": [
    "with open(PATH + 'data/json/attacksData.json', 'w') as f:\n",
    "    json.dump(CountryAttackData_List, f)  "
   ]
  },
  {
   "cell_type": "code",
   "execution_count": null,
   "metadata": {},
   "outputs": [],
   "source": []
  }
 ],
 "metadata": {
  "colab": {
   "collapsed_sections": [],
   "name": "Data Processing_v2.ipynb",
   "provenance": []
  },
  "kernelspec": {
   "display_name": "Python 3",
   "language": "python",
   "name": "python3"
  },
  "language_info": {
   "codemirror_mode": {
    "name": "ipython",
    "version": 3
   },
   "file_extension": ".py",
   "mimetype": "text/x-python",
   "name": "python",
   "nbconvert_exporter": "python",
   "pygments_lexer": "ipython3",
   "version": "3.8.5"
  },
  "toc": {
   "base_numbering": 1,
   "nav_menu": {},
   "number_sections": true,
   "sideBar": true,
   "skip_h1_title": false,
   "title_cell": "Table of Contents",
   "title_sidebar": "Contents",
   "toc_cell": true,
   "toc_position": {},
   "toc_section_display": true,
   "toc_window_display": false
  }
 },
 "nbformat": 4,
 "nbformat_minor": 1
}
