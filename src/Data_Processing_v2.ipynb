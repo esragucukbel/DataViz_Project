{
  "nbformat": 4,
  "nbformat_minor": 0,
  "metadata": {
    "colab": {
      "name": "Data Processing_v2.ipynb",
      "provenance": [],
      "collapsed_sections": []
    },
    "kernelspec": {
      "name": "python3",
      "display_name": "Python 3"
    },
    "language_info": {
      "name": "python"
    }
  },
  "cells": [
    {
      "cell_type": "code",
      "source": [
        "!pip install py7zr"
      ],
      "metadata": {
        "colab": {
          "base_uri": "https://localhost:8080/"
        },
        "id": "k6VGNfIk28Di",
        "outputId": "256c6dba-5db3-41e5-eb4e-5253b854483c"
      },
      "execution_count": 15,
      "outputs": [
        {
          "output_type": "stream",
          "name": "stdout",
          "text": [
            "Requirement already satisfied: py7zr in /usr/local/lib/python3.7/dist-packages (0.17.2)\n",
            "Requirement already satisfied: pyppmd>=0.17.0 in /usr/local/lib/python3.7/dist-packages (from py7zr) (0.17.3)\n",
            "Requirement already satisfied: pyzstd>=0.14.4 in /usr/local/lib/python3.7/dist-packages (from py7zr) (0.15.1)\n",
            "Requirement already satisfied: brotli>=1.0.9 in /usr/local/lib/python3.7/dist-packages (from py7zr) (1.0.9)\n",
            "Requirement already satisfied: pybcj>=0.5.0 in /usr/local/lib/python3.7/dist-packages (from py7zr) (0.5.0)\n",
            "Requirement already satisfied: texttable in /usr/local/lib/python3.7/dist-packages (from py7zr) (1.6.4)\n",
            "Requirement already satisfied: importlib-metadata in /usr/local/lib/python3.7/dist-packages (from py7zr) (4.10.0)\n",
            "Requirement already satisfied: pycryptodomex>=3.6.6 in /usr/local/lib/python3.7/dist-packages (from py7zr) (3.12.0)\n",
            "Requirement already satisfied: multivolumefile>=0.2.3 in /usr/local/lib/python3.7/dist-packages (from py7zr) (0.2.3)\n",
            "Requirement already satisfied: typing-extensions>=3.6.4 in /usr/local/lib/python3.7/dist-packages (from importlib-metadata->py7zr) (3.10.0.2)\n",
            "Requirement already satisfied: zipp>=0.5 in /usr/local/lib/python3.7/dist-packages (from importlib-metadata->py7zr) (3.7.0)\n"
          ]
        }
      ]
    },
    {
      "cell_type": "code",
      "execution_count": 16,
      "metadata": {
        "id": "OhMJ5Sdmy-W0"
      },
      "outputs": [],
      "source": [
        "import pandas as pd\n",
        "import numpy as np\n",
        "import py7zr\n",
        "import os\n",
        "import json\n",
        "from urllib.request import urlopen"
      ]
    },
    {
      "cell_type": "code",
      "source": [
        "from google.colab import drive\n",
        "drive.mount(\"/content/gdrive\")"
      ],
      "metadata": {
        "colab": {
          "base_uri": "https://localhost:8080/"
        },
        "id": "0ZnEvyswzEJ4",
        "outputId": "01ded113-b4c1-4430-d29b-aa565e7ba3a0"
      },
      "execution_count": 17,
      "outputs": [
        {
          "output_type": "stream",
          "name": "stdout",
          "text": [
            "Drive already mounted at /content/gdrive; to attempt to forcibly remount, call drive.mount(\"/content/gdrive\", force_remount=True).\n"
          ]
        }
      ]
    },
    {
      "cell_type": "code",
      "source": [
        "# Data reading\n",
        "PATH = \"/content/gdrive/MyDrive/GlobalTerrorismViz/\""
      ],
      "metadata": {
        "id": "T2bGYY42zL0Y"
      },
      "execution_count": 18,
      "outputs": []
    },
    {
      "cell_type": "code",
      "source": [
        "# Data reading\n",
        "with py7zr.SevenZipFile(PATH + 'data/globalterrorismdb_0221dist.7z') as z:\n",
        "    # open the csv file in the dataset\n",
        "    targetPath = PATH + 'data/'\n",
        "    z.extract(path = targetPath)\n",
        "    df = pd.read_excel(targetPath + '/globalterrorismdb_0221dist.xlsx')\n",
        "    \n",
        "# We filtered out doubted attacks to be able to have exact attacks\n",
        "df = df[(df['doubtterr'] != 1) & (df['iyear'] >=2000)]\n",
        "\n",
        "_df = df[['eventid','iyear','imonth','iday','country','country_txt',\n",
        "         'region','region_txt', 'provstate', 'city','latitude','longitude',\n",
        "         'nkill', 'nwound','gname','targtype1_txt']]"
      ],
      "metadata": {
        "id": "tK8Yqj_8zR25"
      },
      "execution_count": 19,
      "outputs": []
    },
    {
      "cell_type": "code",
      "source": [
        "# Geojson for polygons of map\n",
        "with urlopen('https://raw.githubusercontent.com/johan/world.geo.json/master/countries.geo.json') as response:\n",
        "    countries = json.load(response)\n",
        "                          \n",
        "countries_df = pd.json_normalize(countries,  record_path =['features'])"
      ],
      "metadata": {
        "id": "4vnTqnxD0ldn"
      },
      "execution_count": 20,
      "outputs": []
    },
    {
      "cell_type": "code",
      "source": [
        "# Merging locations and main df\n",
        "df_merged = pd.merge(_df, countries_df , left_on = 'country_txt', right_on = 'properties.name', how = 'left' )\n",
        "\n",
        "# Getting Stats\n",
        "group_year_dataset = df_merged.groupby(by=['gname','iyear','country_txt','id']).agg({'eventid':'nunique',\n",
        "                                                                'nkill':'sum',\n",
        "                                                                'nwound':'sum'}).reset_index()\n",
        "\n",
        "attacks_by_target = df_merged.groupby(by=['targtype1_txt','iyear','country_txt','id']).agg({'eventid':'nunique',\n",
        "                                                                'nkill':'sum',\n",
        "                                                                'nwound':'sum'}).reset_index()\n",
        "\n",
        "death_injury_yearly = df_merged.groupby(by=['iyear','country_txt','id']).agg({'eventid':'nunique',\n",
        "                                                                'nkill':'sum',\n",
        "                                                                'nwound':'sum'}).reset_index()\n",
        "\n",
        "df_merged['affiliation'] = df_merged['gname'].apply(lambda x: 'Affiliated' if x !='Unknown' else 'NotAffiliated')\n",
        "affiliated_yearly = df_merged.groupby(by=['iyear','country_txt','id','affiliation']).agg({'eventid':'nunique',\n",
        "                                                                              'nkill':'sum',\n",
        "                                                                               'nwound':'sum'}).reset_index()"
      ],
      "metadata": {
        "id": "wYUAy-Gb2Mvp"
      },
      "execution_count": 21,
      "outputs": []
    },
    {
      "cell_type": "code",
      "source": [
        "# Writing to excel\n",
        "group_year_dataset.to_excel(PATH + 'data/xlsx/group_year_dataset.xlsx', engine='openpyxl', encoding='utf-8')\n",
        "attacks_by_target.to_excel(PATH + 'data/xlsx/attacks_by_target.xlsx', engine='openpyxl', encoding='utf-8')\n",
        "death_injury_yearly.to_excel(PATH + 'data/xlsx/death_injury_yearly.xlsx', engine='openpyxl', encoding='utf-8')\n",
        "affiliated_yearly.to_excel(PATH + 'data/xlsx/affiliated_yearly.xlsx', engine='openpyxl', encoding='utf-8')"
      ],
      "metadata": {
        "id": "kiIQFBEb8k_e"
      },
      "execution_count": 27,
      "outputs": []
    },
    {
      "cell_type": "code",
      "source": [
        "# Writing to JSON\n",
        "group_year_dataset.to_json(PATH + 'data/json/group_year_dataset.json')\n",
        "attacks_by_target.to_json(PATH + 'data/json/attacks_by_target.json')\n",
        "death_injury_yearly.to_json(PATH + 'data/json/death_injury_yearly.json')\n",
        "affiliated_yearly.to_json(PATH + 'data/json/affiliated_yearly.json')"
      ],
      "metadata": {
        "id": "nfZJVao52vnP"
      },
      "execution_count": 28,
      "outputs": []
    }
  ]
}