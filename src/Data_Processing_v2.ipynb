{
  "nbformat": 4,
  "nbformat_minor": 0,
  "metadata": {
    "colab": {
      "name": "Data Processing_v2.ipynb",
      "provenance": [],
      "collapsed_sections": []
    },
    "kernelspec": {
      "name": "python3",
      "display_name": "Python 3"
    },
    "language_info": {
      "name": "python"
    }
  },
  "cells": [
    {
      "cell_type": "code",
      "execution_count": 22,
      "metadata": {
        "id": "OhMJ5Sdmy-W0"
      },
      "outputs": [],
      "source": [
        "import pandas as pd\n",
        "import numpy as np\n",
        "import py7zr\n",
        "import os\n",
        "import json\n",
        "from urllib.request import urlopen"
      ]
    },
    {
      "cell_type": "code",
      "source": [
        "from google.colab import drive\n",
        "drive.mount(\"/content/gdrive\")"
      ],
      "metadata": {
        "colab": {
          "base_uri": "https://localhost:8080/"
        },
        "id": "0ZnEvyswzEJ4",
        "outputId": "cdff6ca4-a0ea-48cd-eebc-56ce45dcc5d6"
      },
      "execution_count": 2,
      "outputs": [
        {
          "output_type": "stream",
          "name": "stdout",
          "text": [
            "Mounted at /content/gdrive\n"
          ]
        }
      ]
    },
    {
      "cell_type": "code",
      "source": [
        "# Data reading\n",
        "PATH = \"/content/gdrive/MyDrive/GlobalTerrorismViz/\""
      ],
      "metadata": {
        "id": "T2bGYY42zL0Y"
      },
      "execution_count": 8,
      "outputs": []
    },
    {
      "cell_type": "code",
      "source": [
        "# Data reading\n",
        "with py7zr.SevenZipFile(PATH + 'data/globalterrorismdb_0221dist.7z') as z:\n",
        "    # open the csv file in the dataset\n",
        "    targetPath = PATH + 'data/'\n",
        "    z.extract(path = targetPath)\n",
        "    df = pd.read_excel(targetPath + '/globalterrorismdb_0221dist.xlsx')\n",
        "    \n",
        "# We filtered out doubted attacks to be able to have exact attacks\n",
        "df = df[(df['doubtterr'] != 1) & (df['iyear'] >=2000)]\n",
        "\n",
        "_df = df[['eventid','iyear','imonth','iday','country','country_txt',\n",
        "         'region','region_txt', 'provstate', 'city','latitude','longitude',\n",
        "         'nkill', 'nwound','gname','attacktype1_txt']]"
      ],
      "metadata": {
        "id": "tK8Yqj_8zR25"
      },
      "execution_count": 11,
      "outputs": []
    },
    {
      "cell_type": "code",
      "source": [
        "# Geojson for polygons of map\n",
        "with urlopen('https://raw.githubusercontent.com/johan/world.geo.json/master/countries.geo.json') as response:\n",
        "    countries = json.load(response)\n",
        "                          \n",
        "countries_df = pd.json_normalize(countries,  record_path =['features'])"
      ],
      "metadata": {
        "id": "4vnTqnxD0ldn"
      },
      "execution_count": 23,
      "outputs": []
    },
    {
      "cell_type": "code",
      "source": [
        "# Merging locations and main df\n",
        "df_merged = pd.merge(_df, countries_df , left_on = 'country_txt', right_on = 'properties.name', how = 'left' )\n",
        "\n",
        "# Getting Stats\n",
        "group_year_dataset =df_merged.groupby(by=['gname','iyear','country_txt','id']).agg({'eventid':'nunique',\n",
        "                                                                'nkill':'sum',\n",
        "                                                                'nwound':'sum'}).reset_index()\n",
        "\n",
        "attacks_by_target = df_merged.groupby(by=['attacktype1_txt','iyear','country_txt','id']).agg({'eventid':'nunique',\n",
        "                                                                'nkill':'sum',\n",
        "                                                                'nwound':'sum'}).reset_index()\n",
        "\n",
        "death_injury_yearly = df_merged.groupby(by=['iyear','country_txt','id']).agg({'eventid':'nunique',\n",
        "                                                                'nkill':'sum',\n",
        "                                                                'nwound':'sum'}).reset_index()"
      ],
      "metadata": {
        "id": "wYUAy-Gb2Mvp"
      },
      "execution_count": 52,
      "outputs": []
    },
    {
      "cell_type": "code",
      "source": [
        "# Writing to Excel\n",
        "group_year_dataset.to_excel(PATH + 'data/group_year_dataset.xlsx', engine='openpyxl', encoding='utf-8')\n",
        "attacks_by_target.to_excel(PATH + 'data/attacks_by_target.xlsx', engine='openpyxl', encoding='utf-8')\n",
        "death_injury_yearly.to_excel(PATH + 'data/death_injury_yearly.xlsx', engine='openpyxl', encoding='utf-8')"
      ],
      "metadata": {
        "id": "kiIQFBEb8k_e"
      },
      "execution_count": 53,
      "outputs": []
    }
  ]
}